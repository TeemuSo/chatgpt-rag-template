{
 "cells": [
  {
   "cell_type": "markdown",
   "metadata": {},
   "source": [
    "# Adding data\n",
    "\n",
    "In this notebook you will learn to ingest data to your own Pinecone index"
   ]
  },
  {
   "cell_type": "code",
   "execution_count": null,
   "metadata": {},
   "outputs": [],
   "source": [
    "import openai\n",
    "import os\n",
    "from dotenv import load_dotenv\n",
    "import pinecone\n",
    "import uuid\n",
    "\n",
    "load_dotenv()  # Load environment variables from .env file\n",
    "\n",
    "# TODO: Add your own environment!\n",
    "pinecone.init(api_key=os.environ[\"PINECONE_API_KEY\"],\n",
    "              environment='')\n",
    "# TODO: Add your own index\n",
    "index = pinecone.Index('')\n",
    "\n",
    "openai.api_key = os.environ['OPENAI_API_KEY']"
   ]
  },
  {
   "cell_type": "markdown",
   "metadata": {},
   "source": [
    "Create embeddings"
   ]
  },
  {
   "cell_type": "code",
   "execution_count": null,
   "metadata": {},
   "outputs": [],
   "source": [
    "# TODO: Add your own data entries.\n",
    "data = [{\"to_embed\": \"Dummy data\", \"html\": \"<p>Dummy data</p>\"}, \n",
    "        {\"to_embed\": \"Right here\", \"html\": \"<p>Right here</p>\"}]\n",
    "\n",
    "embeddings = []\n",
    "for point in data:\n",
    "    # Create embedding for each chunk of text\n",
    "    chunk_response = openai.Embedding.create(\n",
    "        input=point[\"to_embed\"],\n",
    "        model=\"text-embedding-ada-002\")\n",
    "    # Extract all the embeddings from the response\n",
    "    chunk_ems = [x['embedding'] for x in chunk_response['data']]\n",
    "    embeddings.append(chunk_ems)\n"
   ]
  },
  {
   "cell_type": "markdown",
   "metadata": {},
   "source": [
    "Convert text and embeddings to vectors that can be added to Pinecone"
   ]
  },
  {
   "cell_type": "code",
   "execution_count": null,
   "metadata": {},
   "outputs": [],
   "source": [
    "vectors = []\n",
    "for em, point in zip(embeddings, data):\n",
    "    vector = {'id': str(uuid.uuid4()),\n",
    "              'values': em,\n",
    "              'metadata': point # Point is a dictionary with html and to_embed keys\n",
    "              }\n",
    "\n",
    "    vectors.append(vector)\n"
   ]
  },
  {
   "cell_type": "markdown",
   "metadata": {},
   "source": [
    "Add data to Pinecone"
   ]
  },
  {
   "cell_type": "code",
   "execution_count": null,
   "metadata": {},
   "outputs": [],
   "source": [
    "# TODO: If you have more than 50 vectors or large vectors, you upsert in batches\n",
    "# TODO: Add your own namespace\n",
    "index.upsert(\n",
    "    vectors=vectors,\n",
    "    namespace=''\n",
    ")"
   ]
  }
 ],
 "metadata": {
  "language_info": {
   "name": "python"
  },
  "orig_nbformat": 4
 },
 "nbformat": 4,
 "nbformat_minor": 2
}
